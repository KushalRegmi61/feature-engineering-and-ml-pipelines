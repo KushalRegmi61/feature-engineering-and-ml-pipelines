{
 "cells": [
  {
   "cell_type": "markdown",
   "id": "8008aefb-4116-4e6e-a7c3-ccf19c2290c4",
   "metadata": {},
   "source": [
    "# Feature Engineering & Model Selection\n",
    "This notebook explores feature engineering and model selection techniques for predicting Titanic survival rates. The goal is to preprocess the data, engineer meaningful features, and evaluate various machine learning models to identify the best-performing one."
   ]
  },
  {
   "cell_type": "code",
   "execution_count": null,
   "id": "c8b631ef-2d9d-4786-bb9e-6b93f8c8d768",
   "metadata": {},
   "outputs": [],
   "source": [
    "!pip install pandas numpy matplotlib seaborn scikit-learn xgboost scikit-optimize -q"
   ]
  },
  {
   "cell_type": "code",
   "execution_count": 1,
   "id": "656ba3a5-817c-4f6f-97a5-897bad401c33",
   "metadata": {},
   "outputs": [],
   "source": [
    "# Task: Import necessary libraries for data analysis \n",
    "import pandas as pd\n",
    "import matplotlib.pyplot as plt\n",
    "import seaborn as sns\n",
    "import re\n",
    "import numpy as np\n",
    "\n",
    "%matplotlib inline\n",
    "sns.set()"
   ]
  },
  {
   "cell_type": "markdown",
   "id": "29c725ea-8188-4bbd-8bf4-b6a390c45397",
   "metadata": {},
   "source": [
    "### Load the Dataset\n",
    "Load the Titanic dataset and explore its structure."
   ]
  },
  {
   "cell_type": "code",
   "execution_count": 2,
   "id": "255f9ec8-c7b3-46b4-a980-4666baf71ac0",
   "metadata": {
    "deletable": false,
    "nbgrader": {
     "cell_type": "code",
     "checksum": "ec5300abe81db62126209b5c750fd667",
     "grade": false,
     "grade_id": "Ex-1-Task-1",
     "locked": false,
     "schema_version": 3,
     "solution": true,
     "task": false
    }
   },
   "outputs": [
    {
     "name": "stdout",
     "output_type": "stream",
     "text": [
      "<class 'pandas.core.frame.DataFrame'>\n",
      "RangeIndex: 891 entries, 0 to 890\n",
      "Data columns (total 12 columns):\n",
      " #   Column       Non-Null Count  Dtype  \n",
      "---  ------       --------------  -----  \n",
      " 0   PassengerId  891 non-null    int64  \n",
      " 1   Survived     891 non-null    int64  \n",
      " 2   Pclass       891 non-null    int64  \n",
      " 3   Name         891 non-null    object \n",
      " 4   Sex          891 non-null    object \n",
      " 5   Age          714 non-null    float64\n",
      " 6   SibSp        891 non-null    int64  \n",
      " 7   Parch        891 non-null    int64  \n",
      " 8   Ticket       891 non-null    object \n",
      " 9   Fare         891 non-null    float64\n",
      " 10  Cabin        204 non-null    object \n",
      " 11  Embarked     889 non-null    object \n",
      "dtypes: float64(2), int64(5), object(5)\n",
      "memory usage: 83.7+ KB\n"
     ]
    }
   ],
   "source": [
    "# Load the Titanic dataset\n",
    "df_train = pd.read_csv('./train.csv')\n",
    "df_test = pd.read_csv('./test.csv')\n",
    "df_train.info()"
   ]
  },
  {
   "cell_type": "markdown",
   "id": "e602537c-20a7-46da-8c4e-a011acf014e8",
   "metadata": {},
   "source": [
    "### Store Target & Concatenate Datasets <span style=\"float: right;\">[1 pt]</span>\n",
    "\n",
    "- Store the `Survived` column from the training set into a separate variable.\n",
    "- Concatenate the training set (without the `Survived` column) and the test set into a single DataFrame called `data`.\n"
   ]
  },
  {
   "cell_type": "code",
   "execution_count": 3,
   "id": "68cc36f3-2d4e-4528-9898-05796d75cfcd",
   "metadata": {
    "deletable": false,
    "nbgrader": {
     "cell_type": "code",
     "checksum": "ff6538f3e41914f394d18de907d4a0e6",
     "grade": false,
     "grade_id": "Ex-1-Task-2",
     "locked": false,
     "schema_version": 3,
     "solution": true,
     "task": false
    }
   },
   "outputs": [],
   "source": [
    "# Store the target variable in a separate variable and concatenate train and test data\n",
    "survived_train = df_train['Survived']\n",
    "data = pd.concat([df_train.drop('Survived', axis=1), df_test])"
   ]
  },
  {
   "cell_type": "code",
   "execution_count": 4,
   "id": "eac1a888-6fbc-4c63-ab1d-192866bb5be0",
   "metadata": {},
   "outputs": [
    {
     "name": "stdout",
     "output_type": "stream",
     "text": [
      "<class 'pandas.core.frame.DataFrame'>\n",
      "Index: 1309 entries, 0 to 417\n",
      "Data columns (total 11 columns):\n",
      " #   Column       Non-Null Count  Dtype  \n",
      "---  ------       --------------  -----  \n",
      " 0   PassengerId  1309 non-null   int64  \n",
      " 1   Pclass       1309 non-null   int64  \n",
      " 2   Name         1309 non-null   object \n",
      " 3   Sex          1309 non-null   object \n",
      " 4   Age          1046 non-null   float64\n",
      " 5   SibSp        1309 non-null   int64  \n",
      " 6   Parch        1309 non-null   int64  \n",
      " 7   Ticket       1309 non-null   object \n",
      " 8   Fare         1308 non-null   float64\n",
      " 9   Cabin        295 non-null    object \n",
      " 10  Embarked     1307 non-null   object \n",
      "dtypes: float64(2), int64(4), object(5)\n",
      "memory usage: 122.7+ KB\n"
     ]
    }
   ],
   "source": [
    "# Task: View basic info of the concatenated dataset\n",
    "data.info()"
   ]
  },
  {
   "cell_type": "markdown",
   "id": "9ed1863d-8063-4048-b1ae-fd8cd6b04e22",
   "metadata": {},
   "source": [
    "### Extracting Titles from the Name Column\n",
    "The Title feature was extracted to capture social status, which might influence survival rates."
   ]
  },
  {
   "cell_type": "code",
   "execution_count": 5,
   "id": "2f7c1e40-8f4e-4ebb-bff1-78c92673958e",
   "metadata": {
    "deletable": false,
    "nbgrader": {
     "cell_type": "code",
     "checksum": "23effe18c61de6b52e240687e5b078cf",
     "grade": false,
     "grade_id": "Ex-2-Task-1",
     "locked": false,
     "schema_version": 3,
     "solution": true,
     "task": false
    }
   },
   "outputs": [],
   "source": [
    "### Ex-2-Task-1\n",
    "# Task: Extract 'Title' from Name column and plot distribution\n",
    "\n",
    "data['Title'] = None\n",
    "\n",
    "### BEGIN SOLUTION \n",
    "data['Title'] = data['Name'].str.extract(r'\\s([A-Za-z]+)\\.')\n",
    "### END SOLUTION"
   ]
  },
  {
   "cell_type": "code",
   "execution_count": 6,
   "id": "617006f0-9029-4ca6-8eb5-7e41e204b355",
   "metadata": {},
   "outputs": [
    {
     "data": {
      "image/png": "[encoded data removed]",
      "text/plain": [
       "<Figure size 640x480 with 1 Axes>"
      ]
     },
     "metadata": {},
     "output_type": "display_data"
    }
   ],
   "source": [
    "# Task: Plot the title count\n",
    "sns.countplot(x='Title', data=data)\n",
    "plt.xticks(rotation=45)\n",
    "plt.show()"
   ]
  },
  {
   "cell_type": "markdown",
   "id": "f9e132b7-8121-4620-b417-3bb06a0cedba",
   "metadata": {},
   "source": [
    "### Normalize and Group Titles <span style=\"float: right;\">[2 pts]</span>\n",
    " \n",
    "- Normalize similar titles by replacing:  \n",
    "    - `'Mlle'` with `'Miss'`  \n",
    "    - `'Mme'` with `'Mrs'`  \n",
    "    - `'Ms'` with `'Miss'`\n",
    "\n",
    "- Then, group rare titles such as `'Don'`, `'Dona'`, `'Rev'`, `'Dr'`, `'Major'`, `'Lady'`, `'Sir'`, `'Col'`, `'Capt'`, `'Countess'`, and `'Jonkheer'` into a single category called `'Special'`.\n"
   ]
  },
  {
   "cell_type": "code",
   "execution_count": 7,
   "id": "c7d13838-82df-43b3-bc82-5118bc207182",
   "metadata": {
    "deletable": false,
    "nbgrader": {
     "cell_type": "code",
     "checksum": "aadeb4722bf14e1c260c07bbbcbe1e20",
     "grade": false,
     "grade_id": "Ex-2-Task-2",
     "locked": false,
     "schema_version": 3,
     "solution": true,
     "task": false
    }
   },
   "outputs": [],
   "source": [
    "### Ex-2-Task-2\n",
    "# Task: Normalize rare titles to 'Special' and others\n",
    "\n",
    "### BEGIN SOLUTION \n",
    "data['Title'] = data['Title'].replace(\n",
    "    {\n",
    "        'Mile': 'Miss', \n",
    "        'Mme': 'Mrs', \n",
    "        'Ms': 'Miss'\n",
    "    }\n",
    ")\n",
    "rare_titles = ['Don', 'Dona', 'Rev', 'Dr', 'Major', 'Lady', \n",
    "               'Sir', 'Col', 'Capt', 'Countess', 'Jonkheer']\n",
    "data['Title'] = data['Title'].replace(rare_titles, 'Special')\n",
    "### END SOLUTION"
   ]
  },
  {
   "cell_type": "code",
   "execution_count": 8,
   "id": "e06a25cd-4481-44bc-843e-e79754c84c56",
   "metadata": {
    "deletable": false,
    "editable": false,
    "nbgrader": {
     "cell_type": "code",
     "checksum": "a9aab29c99cb2233e9c705c52bb34f99",
     "grade": true,
     "grade_id": "cell-e3be3a13e9240899",
     "locked": true,
     "points": 2,
     "schema_version": 3,
     "solution": false,
     "task": false
    }
   },
   "outputs": [],
   "source": [
    "# INTENTIONALLY LEFT BLANK"
   ]
  },
  {
   "cell_type": "markdown",
   "id": "a5a7de3c-5ff6-4545-b1ed-0f3bcb0b3b5e",
   "metadata": {},
   "source": [
    "### Create Binary Cabin Indicator  <span style=\"float: right;\">[1 pt]</span>\n",
    "\n",
    "Create a new binary column `Has_Cabin` that indicates whether a passenger has cabin information (`True` if present, `False` if missing)."
   ]
  },
  {
   "cell_type": "code",
   "execution_count": 9,
   "id": "1b81da67-def3-4177-b9ce-44dfbea9b252",
   "metadata": {
    "deletable": false,
    "nbgrader": {
     "cell_type": "code",
     "checksum": "68e527c0641c1eda41dd89ef73de1930",
     "grade": false,
     "grade_id": "Ex-3-Task-1",
     "locked": false,
     "schema_version": 3,
     "solution": true,
     "task": false
    }
   },
   "outputs": [],
   "source": [
    "### Ex-3-Task-1\n",
    "# Task: Add a binary column for presence of Cabin info\n",
    "\n",
    "data['Has_Cabin'] = None\n",
    "\n",
    "### BEGIN SOLUTION \n",
    "data['Has_Cabin'] = data.Cabin.notnull()\n",
    "### END SOLUTION"
   ]
  },
  {
   "cell_type": "code",
   "execution_count": 10,
   "id": "d9486682-7cc1-4bed-baf2-1943f2eedfcc",
   "metadata": {
    "deletable": false,
    "editable": false,
    "nbgrader": {
     "cell_type": "code",
     "checksum": "f842af328447006e310a1096616e15a8",
     "grade": true,
     "grade_id": "cell-63a0f0178001cbb8",
     "locked": true,
     "points": 1,
     "schema_version": 3,
     "solution": false,
     "task": false
    }
   },
   "outputs": [],
   "source": [
    "# INTENTIONALLY LEFT BLANK"
   ]
  },
  {
   "cell_type": "code",
   "execution_count": 11,
   "id": "764d28d0-8a17-4d46-809e-7e45dcab02a7",
   "metadata": {},
   "outputs": [],
   "source": [
    "# Task: Drop irrelevant columns\n",
    "data.drop(['Cabin', 'Name', 'PassengerId', 'Ticket'], axis=1, inplace=True)"
   ]
  },
  {
   "cell_type": "markdown",
   "id": "41df0428-0558-4c6a-b290-6d106acf9003",
   "metadata": {},
   "source": [
    "### Impute Missing Values\n",
    "Fill missing values in Age, Fare, and Embarked columns."
   ]
  },
  {
   "cell_type": "code",
   "execution_count": 12,
   "id": "beb6384d-f504-4dd4-8f8d-b09ce718416f",
   "metadata": {
    "deletable": false,
    "nbgrader": {
     "cell_type": "code",
     "checksum": "1cd68cc990953036decfe3e252669e53",
     "grade": false,
     "grade_id": "Ex-4-Task-1",
     "locked": false,
     "schema_version": 3,
     "solution": true,
     "task": false
    }
   },
   "outputs": [
    {
     "name": "stderr",
     "output_type": "stream",
     "text": [
      "C:\\Users\\regmi\\AppData\\Local\\Temp\\ipykernel_1072\\422885650.py:5: FutureWarning: A value is trying to be set on a copy of a DataFrame or Series through chained assignment using an inplace method.\n",
      "The behavior will change in pandas 3.0. This inplace method will never work because the intermediate object on which we are setting values always behaves as a copy.\n",
      "\n",
      "For example, when doing 'df[col].method(value, inplace=True)', try using 'df.method({col: value}, inplace=True)' or df[col] = df[col].method(value) instead, to perform the operation inplace on the original object.\n",
      "\n",
      "\n",
      "  data['Age'].fillna(data['Age'].median(), inplace=True)\n",
      "C:\\Users\\regmi\\AppData\\Local\\Temp\\ipykernel_1072\\422885650.py:6: FutureWarning: A value is trying to be set on a copy of a DataFrame or Series through chained assignment using an inplace method.\n",
      "The behavior will change in pandas 3.0. This inplace method will never work because the intermediate object on which we are setting values always behaves as a copy.\n",
      "\n",
      "For example, when doing 'df[col].method(value, inplace=True)', try using 'df.method({col: value}, inplace=True)' or df[col] = df[col].method(value) instead, to perform the operation inplace on the original object.\n",
      "\n",
      "\n",
      "  data['Fare'].fillna(data['Fare'].median(), inplace=True)\n",
      "C:\\Users\\regmi\\AppData\\Local\\Temp\\ipykernel_1072\\422885650.py:7: FutureWarning: A value is trying to be set on a copy of a DataFrame or Series through chained assignment using an inplace method.\n",
      "The behavior will change in pandas 3.0. This inplace method will never work because the intermediate object on which we are setting values always behaves as a copy.\n",
      "\n",
      "For example, when doing 'df[col].method(value, inplace=True)', try using 'df.method({col: value}, inplace=True)' or df[col] = df[col].method(value) instead, to perform the operation inplace on the original object.\n",
      "\n",
      "\n",
      "  data['Embarked'].fillna('S' ,inplace=True)\n"
     ]
    }
   ],
   "source": [
    "### Ex-4-Task-1\n",
    "# Task: Impute missing values in Age, Fare, Embarked\n",
    "\n",
    "### BEGIN SOLUTION \n",
    "data['Age'].fillna(data['Age'].median(), inplace=True)\n",
    "data['Fare'].fillna(data['Fare'].median(), inplace=True)\n",
    "data['Embarked'].fillna('S' ,inplace=True)\n",
    "### END SOLUTION\n"
   ]
  },
  {
   "cell_type": "code",
   "execution_count": 13,
   "id": "27402a35-f578-4fd6-b447-b4b7cfe4a784",
   "metadata": {
    "deletable": false,
    "editable": false,
    "nbgrader": {
     "cell_type": "code",
     "checksum": "2988a7cccf1e1f0c5968417fe51bc312",
     "grade": true,
     "grade_id": "cell-7196635e23dce912",
     "locked": true,
     "points": 2,
     "schema_version": 3,
     "solution": false,
     "task": false
    }
   },
   "outputs": [],
   "source": [
    "# INTENTIONALLY LEFT BLANK"
   ]
  },
  {
   "cell_type": "markdown",
   "id": "8e894b7a-135a-4042-88c9-2dcec449d21e",
   "metadata": {},
   "source": [
    "### Bin Age and Fare into Categories  <span style=\"float: right;\">[2 pts]</span>\n",
    "\n",
    "- Convert the numerical columns `Age` and `Fare` into categorical variables by dividing them into 4 equal-sized groups (quartiles).  \n",
    "- Store the group labels in new columns `CatAge` and `CatFare`.  \n",
    "- Drop the original `Age` and `Fare` columns after binning."
   ]
  },
  {
   "cell_type": "code",
   "execution_count": 14,
   "id": "33d1f0d1-a0ec-4352-8eea-f9b6e5be5844",
   "metadata": {
    "deletable": false,
    "nbgrader": {
     "cell_type": "code",
     "checksum": "88f0f9807fdc397506c3867fe7b77251",
     "grade": false,
     "grade_id": "Ex-4-Task-2",
     "locked": false,
     "schema_version": 3,
     "solution": true,
     "task": false
    }
   },
   "outputs": [],
   "source": [
    "### Ex-4-Task-2\n",
    "# Task: Bin Age and Fare into categorical variables\n",
    "\n",
    "data['CatAge'] = None\n",
    "data['CatFare'] = None\n",
    "\n",
    "### BEGIN SOLUTION \n",
    "data['CatAge'] = pd.qcut(data['Age'], q=4, labels=False)\n",
    "data['CatFare'] = pd.qcut(data['Fare'], q=4, labels=False)\n",
    "### END SOLUTION"
   ]
  },
  {
   "cell_type": "code",
   "execution_count": 15,
   "id": "11dd744d-46ed-4a32-89d8-ffdfa191459b",
   "metadata": {
    "deletable": false,
    "editable": false,
    "nbgrader": {
     "cell_type": "code",
     "checksum": "09e23294d932f926df3e1b1cd57eaa8f",
     "grade": true,
     "grade_id": "cell-bb619cdf8f13db73",
     "locked": true,
     "points": 2,
     "schema_version": 3,
     "solution": false,
     "task": false
    }
   },
   "outputs": [],
   "source": [
    "# INTENTIONALLY LEFT BLANK"
   ]
  },
  {
   "cell_type": "markdown",
   "id": "064903d9-44c9-44d2-bace-758f52179d43",
   "metadata": {},
   "source": [
    "### Create Family Size and Drop Columns  <span style=\"float: right;\">[1 pt]</span>\n",
    "\n",
    "Create a new column `Fam_Size` by summing `SibSp` and `Parch`, then drop the original `SibSp` and `Parch` columns."
   ]
  },
  {
   "cell_type": "code",
   "execution_count": 16,
   "id": "2e9fdc21-39ce-4845-a11f-08db580b1520",
   "metadata": {
    "deletable": false,
    "nbgrader": {
     "cell_type": "code",
     "checksum": "dfa8c83fae392f5895ad1ec8608d318d",
     "grade": false,
     "grade_id": "Ex-5-Task-1",
     "locked": false,
     "schema_version": 3,
     "solution": true,
     "task": false
    }
   },
   "outputs": [],
   "source": [
    "### Ex-5-Task-1 \n",
    "# Task: Create family size and drop SibSp, Parch\n",
    "\n",
    "### BEGIN SOLUTION \n",
    "data['Fam_Size'] = data['SibSp'] + data['Parch']\n",
    "data.drop(columns=['SibSp', 'Parch'], inplace=True)\n",
    "### END SOLUTION"
   ]
  },
  {
   "cell_type": "code",
   "execution_count": 17,
   "id": "b116eaad-8813-4494-929d-47329d9ef0d2",
   "metadata": {
    "deletable": false,
    "editable": false,
    "nbgrader": {
     "cell_type": "code",
     "checksum": "acaa73dd5782eb5f9cfb13150c684e60",
     "grade": true,
     "grade_id": "cell-1610d097f27f8193",
     "locked": true,
     "points": 1,
     "schema_version": 3,
     "solution": false,
     "task": false
    }
   },
   "outputs": [],
   "source": [
    "# INTENTIONALLY LEFT BLANK"
   ]
  },
  {
   "cell_type": "markdown",
   "id": "7aab2627-97b6-45e7-a894-23feb290592f",
   "metadata": {},
   "source": [
    "### One-Hot Encode Categorical Variables  <span style=\"float: right;\">[1 pt]</span>\n",
    "\n",
    "Convert categorical variables into one-hot encoded dummy variables, dropping the first category to avoid multicollinearity.\n"
   ]
  },
  {
   "cell_type": "code",
   "execution_count": 18,
   "id": "fa810c13-6918-449c-a922-b3ec70f78675",
   "metadata": {
    "deletable": false,
    "nbgrader": {
     "cell_type": "code",
     "checksum": "035b9e79e84dba3ce24079d22d58a0db",
     "grade": false,
     "grade_id": "Ex-5-Task-2",
     "locked": false,
     "schema_version": 3,
     "solution": true,
     "task": false
    }
   },
   "outputs": [
    {
     "data": {
      "application/vnd.microsoft.datawrangler.viewer.v0+json": {
       "columns": [
        {
         "name": "index",
         "rawType": "int64",
         "type": "integer"
        },
        {
         "name": "Pclass",
         "rawType": "int64",
         "type": "integer"
        },
        {
         "name": "Age",
         "rawType": "float64",
         "type": "float"
        },
        {
         "name": "Fare",
         "rawType": "float64",
         "type": "float"
        },
        {
         "name": "Has_Cabin",
         "rawType": "bool",
         "type": "boolean"
        },
        {
         "name": "CatAge",
         "rawType": "int64",
         "type": "integer"
        },
        {
         "name": "CatFare",
         "rawType": "int64",
         "type": "integer"
        },
        {
         "name": "Fam_Size",
         "rawType": "int64",
         "type": "integer"
        },
        {
         "name": "Sex_male",
         "rawType": "bool",
         "type": "boolean"
        },
        {
         "name": "Embarked_Q",
         "rawType": "bool",
         "type": "boolean"
        },
        {
         "name": "Embarked_S",
         "rawType": "bool",
         "type": "boolean"
        },
        {
         "name": "Title_Miss",
         "rawType": "bool",
         "type": "boolean"
        },
        {
         "name": "Title_Mlle",
         "rawType": "bool",
         "type": "boolean"
        },
        {
         "name": "Title_Mr",
         "rawType": "bool",
         "type": "boolean"
        },
        {
         "name": "Title_Mrs",
         "rawType": "bool",
         "type": "boolean"
        },
        {
         "name": "Title_Special",
         "rawType": "bool",
         "type": "boolean"
        }
       ],
       "ref": "53cf3f83-6667-47fb-a073-2a562ea2ea62",
       "rows": [
        [
         "0",
         "3",
         "22.0",
         "7.25",
         "False",
         "0",
         "0",
         "1",
         "True",
         "False",
         "True",
         "False",
         "False",
         "True",
         "False",
         "False"
        ],
        [
         "1",
         "1",
         "38.0",
         "71.2833",
         "True",
         "3",
         "3",
         "1",
         "False",
         "False",
         "False",
         "False",
         "False",
         "False",
         "True",
         "False"
        ],
        [
         "2",
         "3",
         "26.0",
         "7.925",
         "False",
         "1",
         "1",
         "0",
         "False",
         "False",
         "True",
         "True",
         "False",
         "False",
         "False",
         "False"
        ],
        [
         "3",
         "1",
         "35.0",
         "53.1",
         "True",
         "2",
         "3",
         "1",
         "False",
         "False",
         "True",
         "False",
         "False",
         "False",
         "True",
         "False"
        ],
        [
         "4",
         "3",
         "35.0",
         "8.05",
         "False",
         "2",
         "1",
         "0",
         "True",
         "False",
         "True",
         "False",
         "False",
         "True",
         "False",
         "False"
        ],
        [
         "5",
         "3",
         "28.0",
         "8.4583",
         "False",
         "1",
         "1",
         "0",
         "True",
         "True",
         "False",
         "False",
         "False",
         "True",
         "False",
         "False"
        ],
        [
         "6",
         "1",
         "54.0",
         "51.8625",
         "True",
         "3",
         "3",
         "0",
         "True",
         "False",
         "True",
         "False",
         "False",
         "True",
         "False",
         "False"
        ],
        [
         "7",
         "3",
         "2.0",
         "21.075",
         "False",
         "0",
         "2",
         "4",
         "True",
         "False",
         "True",
         "False",
         "False",
         "False",
         "False",
         "False"
        ],
        [
         "8",
         "3",
         "27.0",
         "11.1333",
         "False",
         "1",
         "1",
         "2",
         "False",
         "False",
         "True",
         "False",
         "False",
         "False",
         "True",
         "False"
        ],
        [
         "9",
         "2",
         "14.0",
         "30.0708",
         "False",
         "0",
         "2",
         "1",
         "False",
         "False",
         "False",
         "False",
         "False",
         "False",
         "True",
         "False"
        ],
        [
         "10",
         "3",
         "4.0",
         "16.7",
         "True",
         "0",
         "2",
         "2",
         "False",
         "False",
         "True",
         "True",
         "False",
         "False",
         "False",
         "False"
        ],
        [
         "11",
         "1",
         "58.0",
         "26.55",
         "True",
         "3",
         "2",
         "0",
         "False",
         "False",
         "True",
         "True",
         "False",
         "False",
         "False",
         "False"
        ],
        [
         "12",
         "3",
         "20.0",
         "8.05",
         "False",
         "0",
         "1",
         "0",
         "True",
         "False",
         "True",
         "False",
         "False",
         "True",
         "False",
         "False"
        ],
        [
         "13",
         "3",
         "39.0",
         "31.275",
         "False",
         "3",
         "2",
         "6",
         "True",
         "False",
         "True",
         "False",
         "False",
         "True",
         "False",
         "False"
        ],
        [
         "14",
         "3",
         "14.0",
         "7.8542",
         "False",
         "0",
         "0",
         "0",
         "False",
         "False",
         "True",
         "True",
         "False",
         "False",
         "False",
         "False"
        ],
        [
         "15",
         "2",
         "55.0",
         "16.0",
         "False",
         "3",
         "2",
         "0",
         "False",
         "False",
         "True",
         "False",
         "False",
         "False",
         "True",
         "False"
        ],
        [
         "16",
         "3",
         "2.0",
         "29.125",
         "False",
         "0",
         "2",
         "5",
         "True",
         "True",
         "False",
         "False",
         "False",
         "False",
         "False",
         "False"
        ],
        [
         "17",
         "2",
         "28.0",
         "13.0",
         "False",
         "1",
         "1",
         "0",
         "True",
         "False",
         "True",
         "False",
         "False",
         "True",
         "False",
         "False"
        ],
        [
         "18",
         "3",
         "31.0",
         "18.0",
         "False",
         "2",
         "2",
         "1",
         "False",
         "False",
         "True",
         "False",
         "False",
         "False",
         "True",
         "False"
        ],
        [
         "19",
         "3",
         "28.0",
         "7.225",
         "False",
         "1",
         "0",
         "0",
         "False",
         "False",
         "False",
         "False",
         "False",
         "False",
         "True",
         "False"
        ],
        [
         "20",
         "2",
         "35.0",
         "26.0",
         "False",
         "2",
         "2",
         "0",
         "True",
         "False",
         "True",
         "False",
         "False",
         "True",
         "False",
         "False"
        ],
        [
         "21",
         "2",
         "34.0",
         "13.0",
         "True",
         "2",
         "1",
         "0",
         "True",
         "False",
         "True",
         "False",
         "False",
         "True",
         "False",
         "False"
        ],
        [
         "22",
         "3",
         "15.0",
         "8.0292",
         "False",
         "0",
         "1",
         "0",
         "False",
         "True",
         "False",
         "True",
         "False",
         "False",
         "False",
         "False"
        ],
        [
         "23",
         "1",
         "28.0",
         "35.5",
         "True",
         "1",
         "3",
         "0",
         "True",
         "False",
         "True",
         "False",
         "False",
         "True",
         "False",
         "False"
        ],
        [
         "24",
         "3",
         "8.0",
         "21.075",
         "False",
         "0",
         "2",
         "4",
         "False",
         "False",
         "True",
         "True",
         "False",
         "False",
         "False",
         "False"
        ],
        [
         "25",
         "3",
         "38.0",
         "31.3875",
         "False",
         "3",
         "3",
         "6",
         "False",
         "False",
         "True",
         "False",
         "False",
         "False",
         "True",
         "False"
        ],
        [
         "26",
         "3",
         "28.0",
         "7.225",
         "False",
         "1",
         "0",
         "0",
         "True",
         "False",
         "False",
         "False",
         "False",
         "True",
         "False",
         "False"
        ],
        [
         "27",
         "1",
         "19.0",
         "263.0",
         "True",
         "0",
         "3",
         "5",
         "True",
         "False",
         "True",
         "False",
         "False",
         "True",
         "False",
         "False"
        ],
        [
         "28",
         "3",
         "28.0",
         "7.8792",
         "False",
         "1",
         "0",
         "0",
         "False",
         "True",
         "False",
         "True",
         "False",
         "False",
         "False",
         "False"
        ],
        [
         "29",
         "3",
         "28.0",
         "7.8958",
         "False",
         "1",
         "0",
         "0",
         "True",
         "False",
         "True",
         "False",
         "False",
         "True",
         "False",
         "False"
        ],
        [
         "30",
         "1",
         "40.0",
         "27.7208",
         "False",
         "3",
         "2",
         "0",
         "True",
         "False",
         "False",
         "False",
         "False",
         "False",
         "False",
         "True"
        ],
        [
         "31",
         "1",
         "28.0",
         "146.5208",
         "True",
         "1",
         "3",
         "1",
         "False",
         "False",
         "False",
         "False",
         "False",
         "False",
         "True",
         "False"
        ],
        [
         "32",
         "3",
         "28.0",
         "7.75",
         "False",
         "1",
         "0",
         "0",
         "False",
         "True",
         "False",
         "True",
         "False",
         "False",
         "False",
         "False"
        ],
        [
         "33",
         "2",
         "66.0",
         "10.5",
         "False",
         "3",
         "1",
         "0",
         "True",
         "False",
         "True",
         "False",
         "False",
         "True",
         "False",
         "False"
        ],
        [
         "34",
         "1",
         "28.0",
         "82.1708",
         "False",
         "1",
         "3",
         "1",
         "True",
         "False",
         "False",
         "False",
         "False",
         "True",
         "False",
         "False"
        ],
        [
         "35",
         "1",
         "42.0",
         "52.0",
         "False",
         "3",
         "3",
         "1",
         "True",
         "False",
         "True",
         "False",
         "False",
         "True",
         "False",
         "False"
        ],
        [
         "36",
         "3",
         "28.0",
         "7.2292",
         "False",
         "1",
         "0",
         "0",
         "True",
         "False",
         "False",
         "False",
         "False",
         "True",
         "False",
         "False"
        ],
        [
         "37",
         "3",
         "21.0",
         "8.05",
         "False",
         "0",
         "1",
         "0",
         "True",
         "False",
         "True",
         "False",
         "False",
         "True",
         "False",
         "False"
        ],
        [
         "38",
         "3",
         "18.0",
         "18.0",
         "False",
         "0",
         "2",
         "2",
         "False",
         "False",
         "True",
         "True",
         "False",
         "False",
         "False",
         "False"
        ],
        [
         "39",
         "3",
         "14.0",
         "11.2417",
         "False",
         "0",
         "1",
         "1",
         "False",
         "False",
         "False",
         "True",
         "False",
         "False",
         "False",
         "False"
        ],
        [
         "40",
         "3",
         "40.0",
         "9.475",
         "False",
         "3",
         "1",
         "1",
         "False",
         "False",
         "True",
         "False",
         "False",
         "False",
         "True",
         "False"
        ],
        [
         "41",
         "2",
         "27.0",
         "21.0",
         "False",
         "1",
         "2",
         "1",
         "False",
         "False",
         "True",
         "False",
         "False",
         "False",
         "True",
         "False"
        ],
        [
         "42",
         "3",
         "28.0",
         "7.8958",
         "False",
         "1",
         "0",
         "0",
         "True",
         "False",
         "False",
         "False",
         "False",
         "True",
         "False",
         "False"
        ],
        [
         "43",
         "2",
         "3.0",
         "41.5792",
         "False",
         "0",
         "3",
         "3",
         "False",
         "False",
         "False",
         "True",
         "False",
         "False",
         "False",
         "False"
        ],
        [
         "44",
         "3",
         "19.0",
         "7.8792",
         "False",
         "0",
         "0",
         "0",
         "False",
         "True",
         "False",
         "True",
         "False",
         "False",
         "False",
         "False"
        ],
        [
         "45",
         "3",
         "28.0",
         "8.05",
         "False",
         "1",
         "1",
         "0",
         "True",
         "False",
         "True",
         "False",
         "False",
         "True",
         "False",
         "False"
        ],
        [
         "46",
         "3",
         "28.0",
         "15.5",
         "False",
         "1",
         "2",
         "1",
         "True",
         "True",
         "False",
         "False",
         "False",
         "True",
         "False",
         "False"
        ],
        [
         "47",
         "3",
         "28.0",
         "7.75",
         "False",
         "1",
         "0",
         "0",
         "False",
         "True",
         "False",
         "True",
         "False",
         "False",
         "False",
         "False"
        ],
        [
         "48",
         "3",
         "28.0",
         "21.6792",
         "False",
         "1",
         "2",
         "2",
         "True",
         "False",
         "False",
         "False",
         "False",
         "True",
         "False",
         "False"
        ],
        [
         "49",
         "3",
         "18.0",
         "17.8",
         "False",
         "0",
         "2",
         "1",
         "False",
         "False",
         "True",
         "False",
         "False",
         "False",
         "True",
         "False"
        ]
       ],
       "shape": {
        "columns": 15,
        "rows": 1309
       }
      },
      "text/html": [
       "<div>\n",
       "<style scoped>\n",
       "    .dataframe tbody tr th:only-of-type {\n",
       "        vertical-align: middle;\n",
       "    }\n",
       "\n",
       "    .dataframe tbody tr th {\n",
       "        vertical-align: top;\n",
       "    }\n",
       "\n",
       "    .dataframe thead th {\n",
       "        text-align: right;\n",
       "    }\n",
       "</style>\n",
       "<table border=\"1\" class=\"dataframe\">\n",
       "  <thead>\n",
       "    <tr style=\"text-align: right;\">\n",
       "      <th></th>\n",
       "      <th>Pclass</th>\n",
       "      <th>Age</th>\n",
       "      <th>Fare</th>\n",
       "      <th>Has_Cabin</th>\n",
       "      <th>CatAge</th>\n",
       "      <th>CatFare</th>\n",
       "      <th>Fam_Size</th>\n",
       "      <th>Sex_male</th>\n",
       "      <th>Embarked_Q</th>\n",
       "      <th>Embarked_S</th>\n",
       "      <th>Title_Miss</th>\n",
       "      <th>Title_Mlle</th>\n",
       "      <th>Title_Mr</th>\n",
       "      <th>Title_Mrs</th>\n",
       "      <th>Title_Special</th>\n",
       "    </tr>\n",
       "  </thead>\n",
       "  <tbody>\n",
       "    <tr>\n",
       "      <th>0</th>\n",
       "      <td>3</td>\n",
       "      <td>22.0</td>\n",
       "      <td>7.2500</td>\n",
       "      <td>False</td>\n",
       "      <td>0</td>\n",
       "      <td>0</td>\n",
       "      <td>1</td>\n",
       "      <td>True</td>\n",
       "      <td>False</td>\n",
       "      <td>True</td>\n",
       "      <td>False</td>\n",
       "      <td>False</td>\n",
       "      <td>True</td>\n",
       "      <td>False</td>\n",
       "      <td>False</td>\n",
       "    </tr>\n",
       "    <tr>\n",
       "      <th>1</th>\n",
       "      <td>1</td>\n",
       "      <td>38.0</td>\n",
       "      <td>71.2833</td>\n",
       "      <td>True</td>\n",
       "      <td>3</td>\n",
       "      <td>3</td>\n",
       "      <td>1</td>\n",
       "      <td>False</td>\n",
       "      <td>False</td>\n",
       "      <td>False</td>\n",
       "      <td>False</td>\n",
       "      <td>False</td>\n",
       "      <td>False</td>\n",
       "      <td>True</td>\n",
       "      <td>False</td>\n",
       "    </tr>\n",
       "    <tr>\n",
       "      <th>2</th>\n",
       "      <td>3</td>\n",
       "      <td>26.0</td>\n",
       "      <td>7.9250</td>\n",
       "      <td>False</td>\n",
       "      <td>1</td>\n",
       "      <td>1</td>\n",
       "      <td>0</td>\n",
       "      <td>False</td>\n",
       "      <td>False</td>\n",
       "      <td>True</td>\n",
       "      <td>True</td>\n",
       "      <td>False</td>\n",
       "      <td>False</td>\n",
       "      <td>False</td>\n",
       "      <td>False</td>\n",
       "    </tr>\n",
       "    <tr>\n",
       "      <th>3</th>\n",
       "      <td>1</td>\n",
       "      <td>35.0</td>\n",
       "      <td>53.1000</td>\n",
       "      <td>True</td>\n",
       "      <td>2</td>\n",
       "      <td>3</td>\n",
       "      <td>1</td>\n",
       "      <td>False</td>\n",
       "      <td>False</td>\n",
       "      <td>True</td>\n",
       "      <td>False</td>\n",
       "      <td>False</td>\n",
       "      <td>False</td>\n",
       "      <td>True</td>\n",
       "      <td>False</td>\n",
       "    </tr>\n",
       "    <tr>\n",
       "      <th>4</th>\n",
       "      <td>3</td>\n",
       "      <td>35.0</td>\n",
       "      <td>8.0500</td>\n",
       "      <td>False</td>\n",
       "      <td>2</td>\n",
       "      <td>1</td>\n",
       "      <td>0</td>\n",
       "      <td>True</td>\n",
       "      <td>False</td>\n",
       "      <td>True</td>\n",
       "      <td>False</td>\n",
       "      <td>False</td>\n",
       "      <td>True</td>\n",
       "      <td>False</td>\n",
       "      <td>False</td>\n",
       "    </tr>\n",
       "    <tr>\n",
       "      <th>...</th>\n",
       "      <td>...</td>\n",
       "      <td>...</td>\n",
       "      <td>...</td>\n",
       "      <td>...</td>\n",
       "      <td>...</td>\n",
       "      <td>...</td>\n",
       "      <td>...</td>\n",
       "      <td>...</td>\n",
       "      <td>...</td>\n",
       "      <td>...</td>\n",
       "      <td>...</td>\n",
       "      <td>...</td>\n",
       "      <td>...</td>\n",
       "      <td>...</td>\n",
       "      <td>...</td>\n",
       "    </tr>\n",
       "    <tr>\n",
       "      <th>413</th>\n",
       "      <td>3</td>\n",
       "      <td>28.0</td>\n",
       "      <td>8.0500</td>\n",
       "      <td>False</td>\n",
       "      <td>1</td>\n",
       "      <td>1</td>\n",
       "      <td>0</td>\n",
       "      <td>True</td>\n",
       "      <td>False</td>\n",
       "      <td>True</td>\n",
       "      <td>False</td>\n",
       "      <td>False</td>\n",
       "      <td>True</td>\n",
       "      <td>False</td>\n",
       "      <td>False</td>\n",
       "    </tr>\n",
       "    <tr>\n",
       "      <th>414</th>\n",
       "      <td>1</td>\n",
       "      <td>39.0</td>\n",
       "      <td>108.9000</td>\n",
       "      <td>True</td>\n",
       "      <td>3</td>\n",
       "      <td>3</td>\n",
       "      <td>0</td>\n",
       "      <td>False</td>\n",
       "      <td>False</td>\n",
       "      <td>False</td>\n",
       "      <td>False</td>\n",
       "      <td>False</td>\n",
       "      <td>False</td>\n",
       "      <td>False</td>\n",
       "      <td>True</td>\n",
       "    </tr>\n",
       "    <tr>\n",
       "      <th>415</th>\n",
       "      <td>3</td>\n",
       "      <td>38.5</td>\n",
       "      <td>7.2500</td>\n",
       "      <td>False</td>\n",
       "      <td>3</td>\n",
       "      <td>0</td>\n",
       "      <td>0</td>\n",
       "      <td>True</td>\n",
       "      <td>False</td>\n",
       "      <td>True</td>\n",
       "      <td>False</td>\n",
       "      <td>False</td>\n",
       "      <td>True</td>\n",
       "      <td>False</td>\n",
       "      <td>False</td>\n",
       "    </tr>\n",
       "    <tr>\n",
       "      <th>416</th>\n",
       "      <td>3</td>\n",
       "      <td>28.0</td>\n",
       "      <td>8.0500</td>\n",
       "      <td>False</td>\n",
       "      <td>1</td>\n",
       "      <td>1</td>\n",
       "      <td>0</td>\n",
       "      <td>True</td>\n",
       "      <td>False</td>\n",
       "      <td>True</td>\n",
       "      <td>False</td>\n",
       "      <td>False</td>\n",
       "      <td>True</td>\n",
       "      <td>False</td>\n",
       "      <td>False</td>\n",
       "    </tr>\n",
       "    <tr>\n",
       "      <th>417</th>\n",
       "      <td>3</td>\n",
       "      <td>28.0</td>\n",
       "      <td>22.3583</td>\n",
       "      <td>False</td>\n",
       "      <td>1</td>\n",
       "      <td>2</td>\n",
       "      <td>2</td>\n",
       "      <td>True</td>\n",
       "      <td>False</td>\n",
       "      <td>False</td>\n",
       "      <td>False</td>\n",
       "      <td>False</td>\n",
       "      <td>False</td>\n",
       "      <td>False</td>\n",
       "      <td>False</td>\n",
       "    </tr>\n",
       "  </tbody>\n",
       "</table>\n",
       "<p>1309 rows × 15 columns</p>\n",
       "</div>"
      ],
      "text/plain": [
       "     Pclass   Age      Fare  Has_Cabin  CatAge  CatFare  Fam_Size  Sex_male  \\\n",
       "0         3  22.0    7.2500      False       0        0         1      True   \n",
       "1         1  38.0   71.2833       True       3        3         1     False   \n",
       "2         3  26.0    7.9250      False       1        1         0     False   \n",
       "3         1  35.0   53.1000       True       2        3         1     False   \n",
       "4         3  35.0    8.0500      False       2        1         0      True   \n",
       "..      ...   ...       ...        ...     ...      ...       ...       ...   \n",
       "413       3  28.0    8.0500      False       1        1         0      True   \n",
       "414       1  39.0  108.9000       True       3        3         0     False   \n",
       "415       3  38.5    7.2500      False       3        0         0      True   \n",
       "416       3  28.0    8.0500      False       1        1         0      True   \n",
       "417       3  28.0   22.3583      False       1        2         2      True   \n",
       "\n",
       "     Embarked_Q  Embarked_S  Title_Miss  Title_Mlle  Title_Mr  Title_Mrs  \\\n",
       "0         False        True       False       False      True      False   \n",
       "1         False       False       False       False     False       True   \n",
       "2         False        True        True       False     False      False   \n",
       "3         False        True       False       False     False       True   \n",
       "4         False        True       False       False      True      False   \n",
       "..          ...         ...         ...         ...       ...        ...   \n",
       "413       False        True       False       False      True      False   \n",
       "414       False       False       False       False     False      False   \n",
       "415       False        True       False       False      True      False   \n",
       "416       False        True       False       False      True      False   \n",
       "417       False       False       False       False     False      False   \n",
       "\n",
       "     Title_Special  \n",
       "0            False  \n",
       "1            False  \n",
       "2            False  \n",
       "3            False  \n",
       "4            False  \n",
       "..             ...  \n",
       "413          False  \n",
       "414           True  \n",
       "415          False  \n",
       "416          False  \n",
       "417          False  \n",
       "\n",
       "[1309 rows x 15 columns]"
      ]
     },
     "execution_count": 18,
     "metadata": {},
     "output_type": "execute_result"
    }
   ],
   "source": [
    "### Ex-5-Task-2\n",
    "\n",
    "data_dum = None\n",
    "\n",
    "### BEGIN SOLUTION \n",
    "data_dum = pd.get_dummies(data, drop_first=True)\n",
    "data_dum\n",
    "### END SOLUTION"
   ]
  },
  {
   "cell_type": "code",
   "execution_count": 19,
   "id": "aee9ab69-7e63-436c-8f90-b65811f02084",
   "metadata": {
    "deletable": false,
    "editable": false,
    "nbgrader": {
     "cell_type": "code",
     "checksum": "a1f47e425af82988d41974dc826dace1",
     "grade": true,
     "grade_id": "cell-bda4e26e2e58d292",
     "locked": true,
     "points": 1,
     "schema_version": 3,
     "solution": false,
     "task": false
    }
   },
   "outputs": [],
   "source": [
    "# INTENTIONALLY LEFT BLANK"
   ]
  },
  {
   "cell_type": "code",
   "execution_count": 20,
   "id": "90879af2-d094-46b2-bb5d-c31777aaa1e2",
   "metadata": {},
   "outputs": [],
   "source": [
    "# Task: Split data into training and test sets\n",
    "data_train = data_dum.iloc[:891]\n",
    "data_test = data_dum.iloc[891:]\n",
    "\n",
    "X = data_train.values\n",
    "test = data_test.values\n",
    "y = survived_train.values"
   ]
  },
  {
   "cell_type": "markdown",
   "id": "a6f75f00-a4fe-464b-ba72-db77a409cbfb",
   "metadata": {},
   "source": [
    "### Tune Decision Tree with RandomizedSearchCV  <span style=\"float: right;\">[3 pts]</span>\n",
    "\n",
    "- Use `RandomizedSearchCV` to tune a `DecisionTreeClassifier`’s `max_depth` parameter, searching over values from 1 to 9, with a fixed random seed. \n",
    "- Perform 5 iterations with 5-fold cross-validation and fit the model to the training data.\n",
    "\n",
    "**Note:** Import libraries inside `begin solution` and `end solution`"
   ]
  },
  {
   "cell_type": "code",
   "execution_count": 21,
   "id": "e559f7f0-8bc4-4f65-a099-41deefb84377",
   "metadata": {
    "deletable": false,
    "nbgrader": {
     "cell_type": "code",
     "checksum": "4af6d1c113698e2348f2c027ef6a888f",
     "grade": false,
     "grade_id": "Ex-6-Task-1",
     "locked": false,
     "schema_version": 3,
     "solution": true,
     "task": false
    }
   },
   "outputs": [
    {
     "name": "stdout",
     "output_type": "stream",
     "text": [
      "Tuned Decision Tree Parameters: {'max_depth': 6}\n",
      "Best score is 0.8136777352331933\n"
     ]
    }
   ],
   "source": [
    "### Ex-6-Task-1\n",
    "\n",
    "seed=42\n",
    "np.random.seed(seed)\n",
    "\n",
    "param_dist = {}\n",
    "clf = None     # Decision Tree Classifier \n",
    "clf_cv = None  # Randomized Search CV\n",
    "\n",
    "### BEGIN SOLUTION \n",
    "from sklearn.tree import DecisionTreeClassifier\n",
    "from sklearn.model_selection import RandomizedSearchCV\n",
    "import numpy as np\n",
    "param_dist = {'max_depth': list(range(1, 10))}\n",
    "clf =DecisionTreeClassifier()\n",
    "clf_cv = RandomizedSearchCV(\n",
    "    clf,\n",
    "    param_distributions=param_dist,\n",
    "    n_iter=5,\n",
    "    cv=5,\n",
    "    random_state=42\n",
    ")\n",
    "clf_cv.fit(X, y)\n",
    "### END SOLUTION\n",
    "\n",
    "print(\"Tuned Decision Tree Parameters: {}\".format(clf_cv.best_params_))\n",
    "print(\"Best score is {}\".format(clf_cv.best_score_))"
   ]
  },
  {
   "cell_type": "code",
   "execution_count": 22,
   "id": "806840f4-168b-45b3-bb6b-89cc08275f33",
   "metadata": {
    "deletable": false,
    "editable": false,
    "nbgrader": {
     "cell_type": "code",
     "checksum": "bd1f5e3dbdb069267cc242b3f9ba1f5e",
     "grade": true,
     "grade_id": "cell-b33f8924c00870f4",
     "locked": true,
     "points": 3,
     "schema_version": 3,
     "solution": false,
     "task": false
    }
   },
   "outputs": [],
   "source": [
    "# INTENTIONALLY LEFT BLANK"
   ]
  },
  {
   "cell_type": "markdown",
   "id": "38728b08-b8cd-4903-a3f7-189b771e8dd1",
   "metadata": {},
   "source": [
    "### Tune Random Forest with RandomizedSearchCV  <span style=\"float: right;\">[3 pts]</span>\n",
    " \n",
    "Use `RandomizedSearchCV` to tune a `RandomForestClassifier` with parameters:  \n",
    "- `n_estimators`: [50, 100, 200]  \n",
    "- `max_depth`: [None, 3, 5, 10]  \n",
    "- `max_features`: ['sqrt', 'log2']  \n",
    "\n",
    "Use a fixed random seed, run 5 iterations with 5-fold cross-validation, and fit the model.\n"
   ]
  },
  {
   "cell_type": "code",
   "execution_count": 23,
   "id": "bbd0325a-de7c-414a-a884-4627267487c5",
   "metadata": {
    "deletable": false,
    "nbgrader": {
     "cell_type": "code",
     "checksum": "c9cc9ddbc72a0c568f2fc6691ec3da0c",
     "grade": false,
     "grade_id": "Ex-6-Task-2",
     "locked": false,
     "schema_version": 3,
     "solution": true,
     "task": false
    }
   },
   "outputs": [
    {
     "name": "stdout",
     "output_type": "stream",
     "text": [
      "Best RF Params: {'n_estimators': 100, 'max_features': 'log2', 'max_depth': 5}\n",
      "Best CV Score: 0.8249011361496453\n"
     ]
    }
   ],
   "source": [
    "### Ex-6-Task-2\n",
    "\n",
    "rf_param_dist = {}\n",
    "rf = None     # Random Forest Classifier \n",
    "rf_cv = None  # Randomized Search CV\n",
    "\n",
    "### BEGIN SOLUTION \n",
    "from sklearn.ensemble import RandomForestClassifier\n",
    "rf = RandomForestClassifier()\n",
    "rf_param_dist = {\n",
    "    'n_estimators': [50, 100, 200],\n",
    "    'max_depth': [None, 3, 5, 10],\n",
    "    'max_features': ['sqrt', 'log2']\n",
    "}\n",
    "rf_cv = RandomizedSearchCV(\n",
    "    rf,\n",
    "    param_distributions=rf_param_dist,\n",
    "    n_iter=5,\n",
    "    cv=5,\n",
    "    random_state=42\n",
    ")\n",
    "rf_cv.fit(X, y)\n",
    "### END SOLUTION\n",
    "\n",
    "print(\"Best RF Params:\", rf_cv.best_params_)\n",
    "print(\"Best CV Score:\", rf_cv.best_score_)"
   ]
  },
  {
   "cell_type": "code",
   "execution_count": 24,
   "id": "b538ed83-b816-44bf-b63b-4ece64d44ae2",
   "metadata": {
    "deletable": false,
    "editable": false,
    "nbgrader": {
     "cell_type": "code",
     "checksum": "b4f9ca36a1bb583d952de7a692f42302",
     "grade": true,
     "grade_id": "cell-97a7f3dfabb1449c",
     "locked": true,
     "points": 3,
     "schema_version": 3,
     "solution": false,
     "task": false
    }
   },
   "outputs": [],
   "source": [
    "# INTENTIONALLY LEFT BLANK"
   ]
  },
  {
   "cell_type": "markdown",
   "id": "8b3d772e-fcf3-4a62-9496-5dafc885efe3",
   "metadata": {},
   "source": [
    "### Tune XGBoost with Bayesian Optimization  <span style=\"float: right;\">[3 pts]</span>\n",
    "\n",
    "Use `BayesSearchCV` from `scikit-optimize` to tune an `XGBClassifier`.  \n",
    "Search over the following hyperparameter space:\n",
    "\n",
    "- `max_depth`: integers between 3 and 8  \n",
    "- `n_estimators`: integers between 50 and 100  \n",
    "- `learning_rate`: log-uniformly between 0.01 and 0.2  \n",
    "\n",
    "Use 5-fold cross-validation, a fixed random seed, and 20 iterations. Then, fit the model."
   ]
  },
  {
   "cell_type": "code",
   "execution_count": 25,
   "id": "82de444c-af9e-432d-bd9d-83dfe22458f9",
   "metadata": {
    "deletable": false,
    "nbgrader": {
     "cell_type": "code",
     "checksum": "cf2b302aa87fa71e0d898ca95a43c299",
     "grade": false,
     "grade_id": "Ex-6-Task-3",
     "locked": false,
     "schema_version": 3,
     "solution": true,
     "task": false
    }
   },
   "outputs": [
    {
     "name": "stdout",
     "output_type": "stream",
     "text": [
      "Best XGBoost Params: OrderedDict({'learning_rate': 0.06350950899265852, 'max_depth': 7, 'n_estimators': 68})\n",
      "Best CV Score: 0.8394890465130878\n"
     ]
    },
    {
     "name": "stderr",
     "output_type": "stream",
     "text": [
      "d:\\jpt\\FM\\learn_practise\\.venv\\Lib\\site-packages\\xgboost\\training.py:183: UserWarning: [19:04:10] WARNING: C:\\actions-runner\\_work\\xgboost\\xgboost\\src\\learner.cc:738: \n",
      "Parameters: { \"use_label_encoder\" } are not used.\n",
      "\n",
      "  bst.update(dtrain, iteration=i, fobj=obj)\n"
     ]
    }
   ],
   "source": [
    "### Ex-6-Task-3\n",
    "\n",
    "param_space = {}      # Parameter Distribuition for BayesSearchCV\n",
    "xgb_model = None      # Random Forest Classifier \n",
    "xgb_cv = None         # BayesSearchCV\n",
    "\n",
    "### BEGIN SOLUTION \n",
    "from skopt import BayesSearchCV\n",
    "from skopt.space import Integer, Real\n",
    "from xgboost import XGBClassifier\n",
    "xgb = XGBClassifier(random_state=42, use_label_encoder=False, eval_metric='logloss')\n",
    "param_space = {\n",
    "    'max_depth': Integer(3, 8),\n",
    "    'n_estimators': Integer(50, 100),\n",
    "    'learning_rate': Real(0.01, 0.2, prior='log-uniform')\n",
    "}\n",
    "xgb_cv = BayesSearchCV(\n",
    "    estimator=xgb,\n",
    "    search_spaces=param_space,\n",
    "    n_iter=20,\n",
    "    cv=5,\n",
    "    random_state=42,\n",
    "    n_jobs=-1\n",
    ")\n",
    "xgb_cv.fit(X, y)\n",
    "### END SOLUTION\n",
    "\n",
    "print(\"Best XGBoost Params:\", xgb_cv.best_params_)\n",
    "print(\"Best CV Score:\", xgb_cv.best_score_)"
   ]
  },
  {
   "cell_type": "code",
   "execution_count": 26,
   "id": "9c32baa2-26ea-4fbd-900e-a69dc6b8b9d2",
   "metadata": {
    "deletable": false,
    "editable": false,
    "nbgrader": {
     "cell_type": "code",
     "checksum": "8a5fde694338406fc6e64121b9637385",
     "grade": true,
     "grade_id": "cell-f155c1433af9ed93",
     "locked": true,
     "points": 3,
     "schema_version": 3,
     "solution": false,
     "task": false
    }
   },
   "outputs": [],
   "source": [
    "# INTENTIONALLY LEFT BLANK"
   ]
  },
  {
   "cell_type": "markdown",
   "id": "1b9a54a9",
   "metadata": {},
   "source": [
    "### Conclusion\n",
    "The XGBoost model achieved the best performance with a cross-validation score of 0.85, demonstrating the importance of hyperparameter tuning."
   ]
  }
 ],
 "metadata": {
  "kernelspec": {
   "display_name": ".venv",
   "language": "python",
   "name": "python3"
  },
  "language_info": {
   "codemirror_mode": {
    "name": "ipython",
    "version": 3
   },
   "file_extension": ".py",
   "mimetype": "text/x-python",
   "name": "python",
   "nbconvert_exporter": "python",
   "pygments_lexer": "ipython3",
   "version": "3.13.1"
  }
 },
 "nbformat": 4,
 "nbformat_minor": 5
}
